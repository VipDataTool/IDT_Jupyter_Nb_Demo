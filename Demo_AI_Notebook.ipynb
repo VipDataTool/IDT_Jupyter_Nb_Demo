{
 "cells": [
  {
   "cell_type": "markdown",
   "metadata": {},
   "source": [
    "# Designing Information With Jupyter Notebooks\n",
    "##### Initializing an instance of an AI client is an effective means of performs various forms of AI-enabled research.\n",
    "#### Here's quick example of how to use a Jupyter Notebook:"
   ]
  },
  {
   "cell_type": "code",
   "execution_count": 2,
   "metadata": {},
   "outputs": [
    {
     "name": "stdout",
     "output_type": "stream",
     "text": [
      "As you can see, x = 4 and y = 2 .\n"
     ]
    }
   ],
   "source": [
    "# The code below defines a variable \"x\" as equal to the number 4.\n",
    "x = 4\n",
    "\n",
    "# The code below defines a variable \"y\" as equal to the number 2.\n",
    "y= 2\n",
    "\n",
    "# The \"print\" function is a built-in function and simply 'prints' an output.\n",
    "print(\"As you can see, x =\", x,\"and y =\", y,\".\")"
   ]
  },
  {
   "cell_type": "code",
   "execution_count": 3,
   "metadata": {},
   "outputs": [
    {
     "name": "stdout",
     "output_type": "stream",
     "text": [
      "The sum of 4 and 2 is 6\n"
     ]
    }
   ],
   "source": [
    "\n",
    "# In this example, an expression that calculates the sum of x and y is passed\n",
    "# as a parameter to the 'print' function which concatenates the listed values.\n",
    "print(\"The sum of\", x,\"and\", y,\"is\", x+y)"
   ]
  },
  {
   "cell_type": "code",
   "execution_count": 6,
   "metadata": {},
   "outputs": [
    {
     "name": "stdout",
     "output_type": "stream",
     "text": [
      "x is 4 and y is 2\n"
     ]
    }
   ],
   "source": [
    "# Variables are shared between cells in a Jupyter Notebook.\n",
    "# For example, the variables in prior cells are accessible in subsequent cells\n",
    "print(\"x is\",x,\"and y is\",y)"
   ]
  },
  {
   "cell_type": "code",
   "execution_count": 3,
   "metadata": {},
   "outputs": [
    {
     "name": "stdout",
     "output_type": "stream",
     "text": [
      "The hypotenuse of a right triangle with adjacent dimensions of 1 and 2 is 2.23606797749979 according to a numerical analysis conducted by John Doe , lead analyst from our Accounting division.\n"
     ]
    }
   ],
   "source": [
    "# By breaking down problems into sub-problems, we can develop piecewise solutions to \n",
    "# difficult problems.\n",
    "a=1\n",
    "b=2\n",
    "c=(a**2+b**2)**(1/2)\n",
    "d=\"John Doe\"\n",
    "e=\"lead analyst\"\n",
    "f=\"Accounting\"\n",
    "\n",
    "print(\"The hypotenuse of a right triangle with adjacent dimensions of\",a,\"and\",b,\"is\",c,\"according to a numerical analysis conducted by\",d,\",\",e,\"from our\",f,\"division.\")"
   ]
  },
  {
   "cell_type": "markdown",
   "metadata": {},
   "source": [
    "##### Another great feature is the capacity to intermingle markdown language with code snippets! This allows users to conduct data science and comparative analysis. One collection of cells can request census data..."
   ]
  },
  {
   "cell_type": "code",
   "execution_count": 11,
   "metadata": {},
   "outputs": [
    {
     "name": "stdout",
     "output_type": "stream",
     "text": [
      "fetching data...\n",
      "response data found!\n"
     ]
    }
   ],
   "source": [
    "# an example of a variable containing url to an endpoint.\n",
    "url = \"census data url goes here\"\n",
    "\n",
    "def http_client(url):\n",
    "    print(\"fetching data...\")\n",
    "    return \"response data found!\"\n",
    "\n",
    "# an example of a 'method' implementation that returns a value from the given endpoint. \n",
    "response = http_client(url)\n",
    "\n",
    "print(response)"
   ]
  },
  {
   "cell_type": "markdown",
   "metadata": {},
   "source": [
    "##### ... while the next \"cleans\" the returned data. "
   ]
  },
  {
   "cell_type": "code",
   "execution_count": 12,
   "metadata": {},
   "outputs": [
    {
     "name": "stdout",
     "output_type": "stream",
     "text": [
      "Cleaning payload...\n",
      "Cleaned data: valuable data here!\n"
     ]
    }
   ],
   "source": [
    "# an example of a 'payload' encapsulated within a 'response' object returned by a web client.\n",
    "response = {\"payload\":\"valuable data here!\", \"other\":\"worthless data here...\"}\n",
    "\n",
    "# assigning the 'payload' to a variable.\n",
    "raw_data = response['payload']\n",
    "\n",
    "# defing a function to 'clean' the raw data.\n",
    "def clean(payload):\n",
    "    print(\"Cleaning payload...\")\n",
    "    return payload\n",
    "\n",
    "# applying the 'clean' method to the 'raw_data' variable.\n",
    "clean_data = clean(raw_data)\n",
    "\n",
    "# printing the results\n",
    "print(\"Cleaned data:\", clean_data)"
   ]
  },
  {
   "cell_type": "markdown",
   "metadata": {},
   "source": [
    "##### After normalizing the data, we can develop a 'pipeline' for further transformations. With each successive procedure, the input acquires characteristics of the intended output."
   ]
  },
  {
   "cell_type": "markdown",
   "metadata": {},
   "source": []
  }
 ],
 "metadata": {
  "kernelspec": {
   "display_name": "Python 3",
   "language": "python",
   "name": "python3"
  },
  "language_info": {
   "codemirror_mode": {
    "name": "ipython",
    "version": 3
   },
   "file_extension": ".py",
   "mimetype": "text/x-python",
   "name": "python",
   "nbconvert_exporter": "python",
   "pygments_lexer": "ipython3",
   "version": "3.10.13"
  }
 },
 "nbformat": 4,
 "nbformat_minor": 2
}
